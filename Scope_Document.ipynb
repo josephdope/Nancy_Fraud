{
 "cells": [
  {
   "cell_type": "markdown",
   "metadata": {},
   "source": [
    "# Project Scope"
   ]
  },
  {
   "cell_type": "markdown",
   "metadata": {},
   "source": [
    "## Scope Statement:\n",
    " To implement a solution that will allow FinanceCompany to better identify fraudulent activity.\n",
    "\n"
   ]
  },
  {
   "cell_type": "markdown",
   "metadata": {},
   "source": [
    "### Stakeholders:\n",
    " * Trevor Osborne - Project Manager\n",
    " * Chris Herman - Lead Data Scientist\n",
    " * Joseph Doperalski - Junior Data Scientist\n",
    " * Justin Drago - IT Manager, Data Connoisseur\n",
    " * Chris DeSilva - Manager of Investigations\n",
    " * Aniket Majumdar - Sith Lord"
   ]
  },
  {
   "cell_type": "markdown",
   "metadata": {},
   "source": [
    "### Data:\n",
    " Project team will work directly with Justin Drago - IT Manager for data acquisition and management. Data will be gathered from internal sources. This data will be contain sensitive customer information and as such, only specific members of project team will have access to data, Chris Herman - Lead Data Scientist and Joseph Doperalski - Junior Data Scientist. Justin Drago will setup user permissions to Postgres database."
   ]
  },
  {
   "cell_type": "markdown",
   "metadata": {},
   "source": [
    "### Technical:\n",
    " Solution will be implemented via a Python 3 program. This program will used data stored in a Postgres database, which only project team members Chris Herman and Joseph Doperalski will have access to. Postgres database and software implemention will be hosted on AWS servers. A dashboard will be created via a web application using Flask for users to view events worthy of investigation."
   ]
  },
  {
   "cell_type": "markdown",
   "metadata": {},
   "source": [
    "### Deliverables:\n",
    "* Sustainable software implementation hosted on AWS servers for continual fraud detection beyond completion of project. \n",
    "* Dashboard that will allow fraud team to identify events worthy of investigation."
   ]
  },
  {
   "cell_type": "markdown",
   "metadata": {},
   "source": [
    "### Timeline:\n",
    "* Today - software development.\n",
    "* Tomorrow - web development."
   ]
  },
  {
   "cell_type": "code",
   "execution_count": null,
   "metadata": {},
   "outputs": [],
   "source": []
  }
 ],
 "metadata": {
  "kernelspec": {
   "display_name": "Python 3",
   "language": "python",
   "name": "python3"
  },
  "language_info": {
   "codemirror_mode": {
    "name": "ipython",
    "version": 3
   },
   "file_extension": ".py",
   "mimetype": "text/x-python",
   "name": "python",
   "nbconvert_exporter": "python",
   "pygments_lexer": "ipython3",
   "version": "3.6.5"
  }
 },
 "nbformat": 4,
 "nbformat_minor": 2
}
